{
  "cells": [
    {
      "cell_type": "markdown",
      "metadata": {
        "id": "IpnirYh30vMS"
      },
      "source": [
        "두 개의 정수를 받아 합을 반환하는 함수 add를 작성하세요. 매개변수와 반환값에 타입 어노테이션을 추가하세요."
      ]
    },
    {
      "cell_type": "code",
      "source": [
        "def add(a: int, b: int) -> int:\n",
        "    return a + b\n",
        "\n",
        "result = add(10, 11)\n",
        "print(f\"10 + 11 = {result}\")"
      ],
      "metadata": {
        "colab": {
          "base_uri": "https://localhost:8080/"
        },
        "id": "lMKiDEEp0vse",
        "outputId": "79c333b9-9da3-47d7-e7e7-58f26bc71699"
      },
      "execution_count": 4,
      "outputs": [
        {
          "output_type": "stream",
          "name": "stdout",
          "text": [
            "10 + 11 = 21\n"
          ]
        }
      ]
    },
    {
      "cell_type": "markdown",
      "metadata": {
        "id": "H0ZFL7ws0vMV"
      },
      "source": []
    }
  ],
  "metadata": {
    "language_info": {
      "name": "python"
    },
    "colab": {
      "provenance": []
    },
    "kernelspec": {
      "name": "python3",
      "display_name": "Python 3"
    }
  },
  "nbformat": 4,
  "nbformat_minor": 0
}