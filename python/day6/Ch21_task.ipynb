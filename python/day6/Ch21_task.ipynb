{
  "cells": [
    {
      "cell_type": "markdown",
      "metadata": {
        "id": "MIpqFmYObHX4"
      },
      "source": [
        "사용자로부터 이름과 나이를 입력 받아, \"안녕하세요, [이름]님! 당신은 [나이]살입니다.\"라고 출력하는 함수 greet_user를 작성하세요."
      ]
    },
    {
      "cell_type": "code",
      "source": [
        "def greet_user(name, age):\n",
        "    print(f\"안녕하세요,{name}님! 당신은 {age}살입니다.\")\n",
        "\n",
        "user_name = input(\"이름을 입력하세요: \")\n",
        "user_age = input(\"나이를 입력하세요: \")\n",
        "\n",
        "greet_user(user_name, user_age)"
      ],
      "metadata": {
        "colab": {
          "base_uri": "https://localhost:8080/"
        },
        "id": "IFdvSS2-bkmm",
        "outputId": "782dbe07-95f2-409b-e0dc-4d83d9362b89"
      },
      "execution_count": 3,
      "outputs": [
        {
          "output_type": "stream",
          "name": "stdout",
          "text": [
            "이름을 입력하세요: 지수\n",
            "나이를 입력하세요: 32\n",
            "안녕하세요,지수님! 당신은 32살입니다.\n"
          ]
        }
      ]
    },
    {
      "cell_type": "markdown",
      "metadata": {
        "id": "uhuqVvlMbHX7"
      },
      "source": [
        "\n",
        "\n",
        "1.   *항목 추가*\n",
        "2.   항목 추가\n",
        "\n"
      ]
    }
  ],
  "metadata": {
    "language_info": {
      "name": "python"
    },
    "colab": {
      "provenance": []
    },
    "kernelspec": {
      "name": "python3",
      "display_name": "Python 3"
    }
  },
  "nbformat": 4,
  "nbformat_minor": 0
}