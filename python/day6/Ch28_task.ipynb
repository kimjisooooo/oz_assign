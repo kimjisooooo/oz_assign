{
  "cells": [
    {
      "cell_type": "markdown",
      "metadata": {
        "id": "Y1S3TeUm3bfj"
      },
      "source": [
        "사용자로부터 3개의 숫자를 입력받아, 이를 튜플로 만든 후 최소값과 최대값을 출력하는 함수 min_max를 작성하세요."
      ]
    },
    {
      "cell_type": "code",
      "source": [
        "def min_max():\n",
        "    numbers = tuple(int(input(f\"숫자 {i+1}을 입력하세요: \"))for i in range(3))\n",
        "\n",
        "    min_value = min(numbers)\n",
        "    max_value = max(numbers)\n",
        "\n",
        "    print(f\"입력된 숫자: {numbers}\")\n",
        "    print(f\"최소값: {min_value} 최댓값: {max_value}\")\n",
        "\n",
        "min_max()"
      ],
      "metadata": {
        "colab": {
          "base_uri": "https://localhost:8080/"
        },
        "id": "oIcCgUq43iTZ",
        "outputId": "3785eb4f-440f-4bc0-8894-2fc5970bc0f3"
      },
      "execution_count": 4,
      "outputs": [
        {
          "output_type": "stream",
          "name": "stdout",
          "text": [
            "숫자 1을 입력하세요: 100\n",
            "숫자 2을 입력하세요: -100\n",
            "숫자 3을 입력하세요: -101\n",
            "입력된 숫자: (100, -100, -101)\n",
            "최소값: -101 최댓값: 100\n"
          ]
        }
      ]
    },
    {
      "cell_type": "markdown",
      "metadata": {
        "id": "YxxfsSLN3bfm"
      },
      "source": []
    }
  ],
  "metadata": {
    "language_info": {
      "name": "python"
    },
    "colab": {
      "provenance": []
    },
    "kernelspec": {
      "name": "python3",
      "display_name": "Python 3"
    }
  },
  "nbformat": 4,
  "nbformat_minor": 0
}