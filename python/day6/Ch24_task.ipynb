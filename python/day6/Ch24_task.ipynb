{
  "cells": [
    {
      "cell_type": "markdown",
      "metadata": {
        "id": "6dV-WL8-z75-"
      },
      "source": [
        "사용자의 이름, 나이, 성별을 출력하는 함수 print_info를 작성하세요. 이 때, 모든 매개변수는 키워드 매개변수로만 받도록 하세요."
      ]
    },
    {
      "cell_type": "code",
      "source": [
        "def print_info(**keyword):\n",
        "    for key, value in keyword.items():\n",
        "        print(f'{key} : {value}')\n",
        "\n",
        "print_info(name = \"지수\", age = 31, gender = \"남자\")"
      ],
      "metadata": {
        "colab": {
          "base_uri": "https://localhost:8080/"
        },
        "id": "FhK6Uvad0EZj",
        "outputId": "ae611639-5501-474d-c6ee-5e839089719c"
      },
      "execution_count": 2,
      "outputs": [
        {
          "output_type": "stream",
          "name": "stdout",
          "text": [
            "name : 지수\n",
            "age : 31\n",
            "gender : 남자\n"
          ]
        }
      ]
    },
    {
      "cell_type": "markdown",
      "metadata": {
        "id": "o_2l9RIgz76B"
      },
      "source": []
    }
  ],
  "metadata": {
    "language_info": {
      "name": "python"
    },
    "colab": {
      "provenance": []
    },
    "kernelspec": {
      "name": "python3",
      "display_name": "Python 3"
    }
  },
  "nbformat": 4,
  "nbformat_minor": 0
}