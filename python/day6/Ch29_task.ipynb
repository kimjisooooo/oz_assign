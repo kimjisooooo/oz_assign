{
  "cells": [
    {
      "cell_type": "markdown",
      "metadata": {
        "id": "YGjVJPm3440C"
      },
      "source": [
        "주어진 숫자가 짝수인지 확인하는 함수 is_even을 작성하세요. 짝수라면 True를, 아니라면 False를 반환하세요. 함수 내에서 조기 리턴을 활용하세요."
      ]
    },
    {
      "cell_type": "code",
      "source": [
        "def is_even(number):\n",
        "    return number % 2 == 0\n",
        "\n",
        "print(f\"이 숫자는 짝수다? {is_even(2)}\")\n",
        "print(f\"이 숫자는 짝수다? {is_even(3)}\")"
      ],
      "metadata": {
        "colab": {
          "base_uri": "https://localhost:8080/"
        },
        "id": "BswjvIiR49HF",
        "outputId": "3fcd8a4b-8ef7-4695-9222-87609b096172"
      },
      "execution_count": 2,
      "outputs": [
        {
          "output_type": "stream",
          "name": "stdout",
          "text": [
            "이 숫자는 짝수다? True\n",
            "이 숫자는 짝수다? False\n"
          ]
        }
      ]
    },
    {
      "cell_type": "markdown",
      "metadata": {
        "id": "x2LSrfJ2440F"
      },
      "source": []
    }
  ],
  "metadata": {
    "language_info": {
      "name": "python"
    },
    "colab": {
      "provenance": []
    },
    "kernelspec": {
      "name": "python3",
      "display_name": "Python 3"
    }
  },
  "nbformat": 4,
  "nbformat_minor": 0
}