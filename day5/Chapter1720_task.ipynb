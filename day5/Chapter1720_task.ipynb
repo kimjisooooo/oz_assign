{
  "cells": [
    {
      "cell_type": "markdown",
      "metadata": {
        "id": "aLkxKxnFLowa"
      },
      "source": [
        "안녕하세요. 수강생 여러분~! Chapter17 ~ 20 수업은 잘 들으셨나요?\n",
        "\n",
        "Chapter17 ~ 20의 수업 내용을 바탕으로 아래 문제를 풀어주시면 됩니다.\n",
        "\n",
        "\n",
        "<br>\n",
        "\n",
        "\n",
        "[**답변 입력 방법**]\n",
        "\n",
        "문제 아래에 있는 코드 입력창에 정답코드를 작성하신 후  __▷ 버튼을 클릭해 코드를 실행__ 해보세요<br>"
      ]
    },
    {
      "cell_type": "markdown",
      "metadata": {
        "id": "pYJ1dSggLwcG"
      },
      "source": [
        "__[문제1]__\n",
        "\n",
        "print_even 리스트 내에 있는 값 중 짝수만 화면에 출력되도록 print_score 함수를 생성 후 결과값을 출력해주세요\n",
        "\n",
        "print_even ([1, 3, 2, 10, 12, 11, 15])"
      ]
    },
    {
      "cell_type": "code",
      "execution_count": 2,
      "metadata": {
        "id": "PTqEeebbLmCA",
        "colab": {
          "base_uri": "https://localhost:8080/"
        },
        "outputId": "cd789d62-2da1-4544-d788-60355cc658ab"
      },
      "outputs": [
        {
          "output_type": "stream",
          "name": "stdout",
          "text": [
            "2\n",
            "10\n",
            "12\n"
          ]
        }
      ],
      "source": [
        "print_even = ([1, 3, 2, 10, 12, 11, 15])\n",
        "\n",
        "def print_score(a):\n",
        "    for i in a:\n",
        "        if i % 2 == 0:\n",
        "            print(i)\n",
        "\n",
        "print_score(print_even)"
      ]
    },
    {
      "cell_type": "markdown",
      "metadata": {
        "id": "VWHo6ExY12uF"
      },
      "source": [
        "---"
      ]
    },
    {
      "cell_type": "markdown",
      "metadata": {
        "id": "ZkGserEsQS0L"
      },
      "source": [
        "__[문제2]__\n",
        "\n",
        "비어있는 오즈 (oz) 클래스를 \"정의\" 해보세요."
      ]
    },
    {
      "cell_type": "code",
      "execution_count": 3,
      "metadata": {
        "id": "dJbcWWlwL0iK"
      },
      "outputs": [],
      "source": [
        "class oz:\n",
        "    pass"
      ]
    },
    {
      "cell_type": "markdown",
      "metadata": {
        "id": "1cD9Oymw12uG"
      },
      "source": [
        "---"
      ]
    },
    {
      "cell_type": "markdown",
      "metadata": {
        "id": "Ofy86rZfL1Mg"
      },
      "source": [
        "__[문제3]__\n",
        "\n",
        "오즈(oz) 클래스의 인스턴스를 \"생성\" 하고 이를 coding 변수로 할당해보세요."
      ]
    },
    {
      "cell_type": "code",
      "execution_count": 4,
      "metadata": {
        "id": "5NhWiuULL2Xa"
      },
      "outputs": [],
      "source": [
        "coding = oz()"
      ]
    },
    {
      "cell_type": "markdown",
      "metadata": {
        "id": "E-lEz9DG12uH"
      },
      "source": [
        "---"
      ]
    },
    {
      "cell_type": "markdown",
      "metadata": {
        "id": "5T6EMx8EL26b"
      },
      "source": [
        "[문제4]\n",
        "\n",
        "오즈(oz) 클래스에 \"클래스 정복\"을 출력하는 기본 생성자를 추가해주세요"
      ]
    },
    {
      "cell_type": "code",
      "execution_count": 6,
      "metadata": {
        "id": "Zq35PXA0L3-m",
        "colab": {
          "base_uri": "https://localhost:8080/"
        },
        "outputId": "8ca9c0c6-21c5-4891-94ac-7fcc95b320eb"
      },
      "outputs": [
        {
          "output_type": "stream",
          "name": "stdout",
          "text": [
            "클래스 정복\n"
          ]
        }
      ],
      "source": [
        "class oz:\n",
        "    def __init__(self):\n",
        "        print(\"클래스 정복\")\n",
        "\n",
        "coding = oz()"
      ]
    },
    {
      "cell_type": "markdown",
      "metadata": {
        "id": "fh0CkKCJ12uI"
      },
      "source": [
        "---"
      ]
    },
    {
      "cell_type": "markdown",
      "metadata": {
        "id": "htuycQWSL4l-"
      },
      "source": [
        "__[문제5]__\n",
        "\n",
        "오즈 (oz) 클래스에 (이름, 나이, 코딩레벨)을 받는 생성자를 추가해주세요\n",
        "\n",
        "coding = oz(\"김코\", 30, \"A\")\n"
      ]
    },
    {
      "cell_type": "code",
      "source": [
        "class oz:\n",
        "    def __init__(self, name, age, coding_level):\n",
        "        self.name = name\n",
        "        self.age = age\n",
        "        self.coding_level = coding_level\n",
        "\n",
        "coding = oz(\"김코\", 30, \"A\")"
      ],
      "metadata": {
        "id": "mAiJ0Iit8-I2"
      },
      "execution_count": 8,
      "outputs": []
    },
    {
      "cell_type": "markdown",
      "metadata": {
        "id": "PqXUyOBC12uI"
      },
      "source": [
        "---"
      ]
    },
    {
      "cell_type": "markdown",
      "metadata": {
        "id": "ZGDLHI5xL6Bd"
      },
      "source": [
        "__[문제6]__\n",
        "\n",
        "5번 문제에서 생성한 인스턴스의 이름, 나이, 성별을 출력해주세요.\n",
        "\n",
        "\n",
        "\n",
        "출력 결과  ) <br>\n",
        "이름 : 김코  \n",
        "나이 : 30  \n",
        "코딩레벨 : A  \n",
        "\n",
        "__Tips__\n",
        "\n",
        "\n",
        "- 인스턴스 변수에 접근하여 값을 출력하면 됩니다  : )"
      ]
    },
    {
      "cell_type": "code",
      "execution_count": 9,
      "metadata": {
        "id": "qCrPejI_L8Wr",
        "colab": {
          "base_uri": "https://localhost:8080/"
        },
        "outputId": "125004cd-70cc-493a-bbe7-d958a7845876"
      },
      "outputs": [
        {
          "output_type": "stream",
          "name": "stdout",
          "text": [
            "이름 : 김코\n",
            "나이 : 30\n",
            "코딩레벨 : A\n"
          ]
        }
      ],
      "source": [
        "print(\"이름 : \" + coding.name)\n",
        "print(\"나이 : \" + str(coding.age))\n",
        "print(\"코딩레벨 : \" + coding.coding_level)"
      ]
    },
    {
      "cell_type": "markdown",
      "metadata": {
        "id": "oJhZqxCv12uJ"
      },
      "source": [
        "---"
      ]
    },
    {
      "cell_type": "markdown",
      "metadata": {
        "id": "RmtPk-A1L8z4"
      },
      "source": [
        "__[문제7]__\n",
        "\n",
        "오즈 (oz) 클래스에서 이름, 나이, 성별을 출력하는 who() 메소드를 추가하고 who()메소드를 이용해 아래 출력 결과를 만들어주세요\n",
        "\n",
        "\n",
        "출력 결과 ) <br>\n",
        "이름: 김코, 나이: 30, 코딩레벨: A"
      ]
    },
    {
      "cell_type": "code",
      "execution_count": 25,
      "metadata": {
        "id": "fvrvm87vL_HZ",
        "colab": {
          "base_uri": "https://localhost:8080/"
        },
        "outputId": "4b910f1a-135a-484c-df03-d3b8729ee249"
      },
      "outputs": [
        {
          "output_type": "stream",
          "name": "stdout",
          "text": [
            "이름:김코, 나이:30, 코딩레벨:A\n",
            "None\n"
          ]
        }
      ],
      "source": [
        "class oz:\n",
        "    def __init__(self, name, age, coding_level):\n",
        "        self.name = name\n",
        "        self.age = age\n",
        "        self.coding_level = coding_level\n",
        "\n",
        "    def who(self):\n",
        "        print(f\"이름:{self.name}, 나이:{str(self.age)}, 코딩레벨:{self.coding_level}\")\n",
        "\n",
        "coding = oz(\"김코\", 30, \"A\")\n",
        "print(coding.who())"
      ]
    }
  ],
  "metadata": {
    "colab": {
      "provenance": []
    },
    "kernelspec": {
      "display_name": "Python 3",
      "name": "python3"
    },
    "language_info": {
      "codemirror_mode": {
        "name": "ipython",
        "version": 3
      },
      "file_extension": ".py",
      "mimetype": "text/x-python",
      "name": "python",
      "nbconvert_exporter": "python",
      "pygments_lexer": "ipython3",
      "version": "3.11.7"
    }
  },
  "nbformat": 4,
  "nbformat_minor": 0
}